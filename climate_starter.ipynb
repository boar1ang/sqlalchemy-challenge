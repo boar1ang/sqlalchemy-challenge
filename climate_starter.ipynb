{
 "cells": [
  {
   "cell_type": "code",
   "execution_count": null,
   "metadata": {},
   "outputs": [],
   "source": [
    "%matplotlib inline\n",
    "from matplotlib import style\n",
    "style.use('fivethirtyeight')\n",
    "import matplotlib.pyplot as plt"
   ]
  },
  {
   "cell_type": "code",
   "execution_count": null,
   "metadata": {},
   "outputs": [],
   "source": [
    "import numpy as np\n",
    "import pandas as pd"
   ]
  },
  {
   "cell_type": "code",
   "execution_count": null,
   "metadata": {},
   "outputs": [],
   "source": [
    "import datetime as dt"
   ]
  },
  {
   "cell_type": "markdown",
   "metadata": {},
   "source": [
    "# Reflect Tables into SQLAlchemy ORM"
   ]
  },
  {
   "cell_type": "code",
   "execution_count": null,
   "metadata": {},
   "outputs": [],
   "source": [
    "# Python SQL toolkit and Object Relational Mapper\n",
    "import sqlalchemy\n",
    "from sqlalchemy.ext.automap import automap_base\n",
    "from sqlalchemy.orm import Session\n",
    "from sqlalchemy import create_engine, inspect, func"
   ]
  },
  {
   "cell_type": "code",
   "execution_count": null,
   "metadata": {},
   "outputs": [],
   "source": [
    "engine = create_engine(\"sqlite:///data/hawaii.sqlite\")"
   ]
  },
  {
   "cell_type": "code",
   "execution_count": null,
   "metadata": {},
   "outputs": [],
   "source": [
    "# reflect an existing database into a new model\n",
    "Base = automap_base()\n",
    "# reflect the tables\n",
    "Base.prepare(engine, reflect=True)"
   ]
  },
  {
   "cell_type": "code",
   "execution_count": null,
   "metadata": {},
   "outputs": [],
   "source": [
    "# View all of the classes that automap found\n",
    "Base.classes.keys()"
   ]
  },
  {
   "cell_type": "code",
   "execution_count": null,
   "metadata": {},
   "outputs": [],
   "source": [
    "# Save references to each table\n",
    "Measurement = Base.classes.measurement\n",
    "Station = Base.classes.station"
   ]
  },
  {
   "cell_type": "code",
   "execution_count": null,
   "metadata": {},
   "outputs": [],
   "source": [
    "# Create our session (link) from Python to the DB\n",
    "session = Session(engine)"
   ]
  },
  {
   "cell_type": "markdown",
   "metadata": {},
   "source": [
    "# Exploratory Climate Analysis"
   ]
  },
  {
   "cell_type": "code",
   "execution_count": null,
   "metadata": {},
   "outputs": [],
   "source": [
    "measurement_data = engine.execute(\"SELECT * FROM measurement\")\n",
    "for record in measurement_data:\n",
    "    print(record)"
   ]
  },
  {
   "cell_type": "code",
   "execution_count": null,
   "metadata": {},
   "outputs": [],
   "source": [
    "#Get column names & data types:\n",
    "inspector = inspect(engine)\n",
    "inspector.get_table_names()\n",
    "columns = inspector.get_columns(\"Measurement\")\n",
    "for c in columns:\n",
    "    print (c[\"name\"], c[\"type\"])"
   ]
  },
  {
   "cell_type": "code",
   "execution_count": null,
   "metadata": {},
   "outputs": [],
   "source": [
    "inspector = inspect(engine)\n",
    "inspector.get_table_names()\n",
    "columns = inspector.get_columns(\"Station\")\n",
    "for c in columns:\n",
    "    print (c[\"name\"], c[\"type\"])"
   ]
  },
  {
   "cell_type": "code",
   "execution_count": null,
   "metadata": {},
   "outputs": [],
   "source": [
    "#Query to find most recent date in database\n",
    "session.query(Measurement.date).order_by(Measurement.date.desc()).first()"
   ]
  },
  {
   "cell_type": "code",
   "execution_count": null,
   "metadata": {},
   "outputs": [],
   "source": [
    "# Design a query to retrieve the last 12 months of precipitation data and plot the results\n",
    "precip = session.query(Measurement.prcp, Measurement.date).filter(Measurement.date > '2016-08-23').order_by(Measurement.date).all()\n",
    "precip"
   ]
  },
  {
   "cell_type": "code",
   "execution_count": null,
   "metadata": {},
   "outputs": [],
   "source": [
    "for precip_num, date in precip:\n",
    "    print(precip_num, date)"
   ]
  },
  {
   "cell_type": "code",
   "execution_count": null,
   "metadata": {},
   "outputs": [],
   "source": [
    "precip_df = pd.DataFrame(precip)\n",
    "precip_df"
   ]
  },
  {
   "cell_type": "code",
   "execution_count": null,
   "metadata": {},
   "outputs": [],
   "source": [
    "#must change 'None' values to 0\n",
    "precip_df.fillna(0, inplace=True)\n",
    "precip_df['date'] = pd.to_datetime(precip_df['date'])\n",
    "precip_df"
   ]
  },
  {
   "cell_type": "code",
   "execution_count": null,
   "metadata": {},
   "outputs": [],
   "source": [
    "# Save the query results as a Pandas DataFrame and set the index to the date column\n",
    "precip_df = precip_df.set_index('date')\n",
    "precip_df"
   ]
  },
  {
   "cell_type": "code",
   "execution_count": null,
   "metadata": {},
   "outputs": [],
   "source": [
    "#Sort DataFrame by date\n",
    "sorted_precip = precip_df.sort_values(by=[\"date\"], ascending=False)\n",
    "sorted_precip = sorted_precip.rename(columns={\"prcp\": \"Precipitation Amt.\"})\n",
    "sorted_precip.sort_index(inplace=True, ascending=True)\n",
    "sorted_precip"
   ]
  },
  {
   "cell_type": "code",
   "execution_count": null,
   "metadata": {},
   "outputs": [],
   "source": [
    "sorted_precip.dtypes"
   ]
  },
  {
   "cell_type": "markdown",
   "metadata": {},
   "source": [
    "![precipitation](Images/precipitation.png)"
   ]
  },
  {
   "cell_type": "code",
   "execution_count": null,
   "metadata": {},
   "outputs": [],
   "source": [
    "sorted_precip.plot(rot=90, figsize=(10,10))\n",
    "plt.gca().legend(loc=\"upper right\")\n",
    "plt.savefig(\"images/HonoluluPrecip_12_months.png\")\n",
    "plt.show()"
   ]
  },
  {
   "cell_type": "markdown",
   "metadata": {},
   "source": [
    "## Summary Statistics for Precip Data"
   ]
  },
  {
   "cell_type": "code",
   "execution_count": null,
   "metadata": {},
   "outputs": [],
   "source": [
    "# Use Pandas to calculate the summary statistics for the precipitation data\n",
    "precip_summary = sorted_precip.describe()\n",
    "precip_summary = round(precip_summary, 2)\n",
    "precip_summary = precip_summary.rename(columns = {'prcp' : 'Precipitation Data'})\n",
    "precip_summary"
   ]
  },
  {
   "cell_type": "code",
   "execution_count": null,
   "metadata": {},
   "outputs": [],
   "source": [
    "# Design a query to show how many stations are available in this dataset?\n",
    "station_count = session.query(func.count(Station.station)).all()\n",
    "print(f\"There are {station_count} different stations available in this dataset.\")"
   ]
  },
  {
   "cell_type": "code",
   "execution_count": null,
   "metadata": {},
   "outputs": [],
   "source": [
    "# What are the most active stations(i.e. what stations have the most rows)? List the stations and the counts in descending order.\n",
    "most_rows = session.query(Measurement.station, func.count(Measurement.station)).group_by(Measurement.station).order_by(func.count(Measurement.station).desc()).all()\n",
    "most_rows"
   ]
  },
  {
   "cell_type": "code",
   "execution_count": null,
   "metadata": {},
   "outputs": [],
   "source": [
    "# Using the station id from the previous query, calculate the lowest temperature recorded, \n",
    "# highest temperature recorded, and average temperature of the most active station?\n",
    "low_temp = session.query(func.min(Measurement.tobs)).filter(Measurement.station == 'USC00519281').all()\n",
    "low_temp"
   ]
  },
  {
   "cell_type": "code",
   "execution_count": null,
   "metadata": {},
   "outputs": [],
   "source": [
    "hi_temp = session.query(func.max(Measurement.tobs)).filter(Measurement.station == 'USC00519281').all()\n",
    "hi_temp"
   ]
  },
  {
   "cell_type": "code",
   "execution_count": null,
   "metadata": {},
   "outputs": [],
   "source": [
    "avg_temp = session.query(func.avg(Measurement.tobs)).filter(Measurement.station == 'USC00519281').all()\n",
    "avg_temp"
   ]
  },
  {
   "cell_type": "code",
   "execution_count": null,
   "metadata": {},
   "outputs": [],
   "source": [
    "# Choose the station with the highest number of temperature observations.\n",
    "most_tobs = session.query(Measurement.station, func.count(Measurement.tobs)).group_by(Measurement.station).order_by(func.count(Measurement.tobs).desc()).all()\n",
    "most_tobs"
   ]
  },
  {
   "cell_type": "code",
   "execution_count": null,
   "metadata": {},
   "outputs": [],
   "source": [
    "last_yr = dt.date(2017, 8, 23) - dt.timedelta(days=365)\n",
    "last_yr\n",
    "last_yr_tobs_data = session.query(Measurement.tobs).filter(Measurement.station == 'USC00519281').filter(Measurement.date >= last_yr).all()\n",
    "last_yr_tobs_data"
   ]
  },
  {
   "cell_type": "code",
   "execution_count": null,
   "metadata": {},
   "outputs": [],
   "source": [
    "# Query the last 12 months of temperature observation data for this station and plot the results as a histogram\n",
    "tobs_df = pd.DataFrame(last_yr_tobs_data, columns=['Temp'])\n",
    "tobs_df\n",
    "tobs_df.plot.hist(bins=12)\n",
    "plt.tight_layout()\n",
    "plt.savefig(\"images/12_month_temp_data.png\")\n",
    "plt.show()"
   ]
  },
  {
   "cell_type": "markdown",
   "metadata": {},
   "source": [
    "## My selected trip dates"
   ]
  },
  {
   "cell_type": "code",
   "execution_count": null,
   "metadata": {},
   "outputs": [],
   "source": [
    "#My selected dates: ('2017-12-30', '2018-01-05')\n",
    "#convert date obj. to string\n",
    "start_date = dt.date(2017, 12, 30) - dt.timedelta(days=365)\n",
    "start_date = start_date.strftime('%Y-%m-%d')\n",
    "start_date\n",
    "end_date = dt.date(2018, 1, 5) - dt.timedelta(days=365)\n",
    "end_date = end_date.strftime('%Y-%m-%d')\n",
    "end_date\n",
    "# This function called `calc_temps` will accept start date and end date in the format '%Y-%m-%d' \n",
    "# and return the minimum, average, and maximum temperatures for that range of dates\n",
    "def calc_temps(start_date, end_date):\n",
    "    \"\"\"TMIN, TAVG, and TMAX for a list of dates.\n",
    "    \n",
    "    Args:\n",
    "        start_date (string): A date string in the format %Y-%m-%d\n",
    "        end_date (string): A date string in the format %Y-%m-%d\n",
    "        \n",
    "    Returns:\n",
    "        TMIN, TAVE, and TMAX\n",
    "    \"\"\"\n",
    "    \n",
    "    return session.query(func.min(Measurement.tobs), func.avg(Measurement.tobs), func.max(Measurement.tobs))\n",
    "        \n",
    "\n",
    "print(start_date)\n",
    "print(end_date)\n",
    "\n",
    "results=calc_temps(start_date, end_date)\n",
    "\n",
    "for TMIN, TAVE, TMAX in results:\n",
    "    print(f'Min. temp: {TMIN}| Avg. temp: {round(TAVE, 1)}| Max. temp: {TMAX}')"
   ]
  },
  {
   "cell_type": "code",
   "execution_count": null,
   "metadata": {},
   "outputs": [],
   "source": [
    "# Plot the results from your previous query as a bar chart. \n",
    "# Use \"Trip Avg Temp\" as your Title; use the average temp for the y value\n",
    "# Use the peak-to-peak (tmax-tmin) value as the y error bar (yerr)\n",
    "x_axis = [\"Avg. Temp. Across Selected Date Range\"]\n",
    "y = TAVE\n",
    "yerr=TMAX - TMIN\n",
    "plt.ylabel(\"Temperatures\")\n",
    "plt.ylim((45, 90))\n",
    "plt.title(\"Trip Avg. Temp.\", fontsize=14)\n",
    "plt.bar(x_axis, y, color='lightblue', yerr=yerr, alpha=0.5, linewidth=0.05, align='center')\n",
    "plt.margins(x=0.5, y = 0.5)\n",
    "plt.savefig(\"images/trip_avg_temp_barchart.png\")\n",
    "plt.show()"
   ]
  },
  {
   "cell_type": "markdown",
   "metadata": {},
   "source": [
    "## Total rainfall based on prior year data for my trip dates"
   ]
  },
  {
   "cell_type": "code",
   "execution_count": null,
   "metadata": {},
   "outputs": [],
   "source": [
    "# Calculate the total amount of rainfall per weather station for your trip dates using the previous year's matching dates.\n",
    "# Sort this in descending order by precipitation amount and list the station, name, latitude, longitude, and elevation\n",
    "\n",
    "sel =[Station.name, Station.station, Station.latitude, Station.longitude, Station.elevation, func.sum(Measurement.prcp)]\n",
    "\n",
    "total_rain = session.query(*sel).filter(Measurement.station == Station.station).filter(Measurement.date >= start_date).filter(Measurement.date <= end_date).group_by(Station.name).order_by(func.sum(Measurement.prcp).desc()).all()\n",
    "\n",
    "labels= [\"Name\", \"Station\", \"Lat\", \"Long\", \"Elev.\", \"Total Precip\"]\n",
    "total_rain_df = pd.DataFrame(data=total_rain, columns=labels)\n",
    "total_rain_df.fillna(0, inplace=True)\n",
    "total_rain_df"
   ]
  },
  {
   "cell_type": "code",
   "execution_count": null,
   "metadata": {},
   "outputs": [],
   "source": [
    "# from sqlalchemy import join\n",
    "# combined = Measurement.join(Station, Measurement.c.station == Station.c.station)\n",
    "# print(combined)"
   ]
  },
  {
   "cell_type": "code",
   "execution_count": null,
   "metadata": {},
   "outputs": [],
   "source": [
    "# %load app.py\n",
    "#sqlalchemy-challenge homework\n",
    "# from flask import Flask, jsonify\n",
    "# import sqlalchemy\n",
    "# from sqlalchemy.orm import Session\n",
    "# from sqlalchemy import create_engine, func\n",
    "# from sqlalchemy.ext.automap import automap_base\n",
    "# from sqlalchemy import join\n",
    "# import json\n",
    "# import numpy as np\n",
    "# import warnings\n",
    "# warnings.filterwarnings('ignore')\n",
    "\n",
    "# engine = create_engine(\"sqlite:///data/hawaii.sqlite\")\n",
    "# Base = automap_base()\n",
    "# Base.prepare(engine, reflect=True)\n",
    "\n",
    "# Base.classes.keys()\n",
    "# Measurement = Base.classes.measurement\n",
    "# Station = Base.classes.station\n",
    "\n",
    "# # #Create Flask app:\n",
    "# app = Flask(__name__)\n",
    "# @app.route(\"/\")\n",
    "# def home():\n",
    "#     print(\"Server received request for Climate App 'Home' page.\")\n",
    "#     return(\"Welcome to the Climate App Home page!<br/>\"\n",
    "#            \"This site provides access to an amazing collection of climate data from Hawaii.<br/>\"\n",
    "#            \"Would you like to use our API? Available API routes include:<br/>\"\n",
    "#            f\"Precipitation: /api/v1.0/precipitation<br/>\"\n",
    "#            f\"Weather stations: /api/v1.0/stations<br/>\"\n",
    "#            f\"Temperature observations over 1 year: /api/v1.0/tobs<br/>\" \n",
    "#            f\"Temperature observations from start date: /api/v1.0/tobs<br/>\"\n",
    "#            f\"Temperature from specified start date to specified end date: /api/v1.0/<start> and /api/v1.0/<start>/<end><br/>\")\n",
    "\n",
    "# #### API route 1/5:\n",
    "# @app.route(\"/api/v1.0/precipitation\")\n",
    "# def precipitation():\n",
    "#     session = Session(engine)\n",
    "#     sel = [Measurement.prcp, Measurement.date]\n",
    "#     result=session.query(*sel).all()\n",
    "#     session.close()\n",
    "    \n",
    "#     precipitation = []\n",
    "#     for date, prcp in result:\n",
    "#         prcp_dict={}\n",
    "#         prcp_dict[\"precipitation\"] = prcp\n",
    "#         prcp_dict[\"date\"] = date\n",
    "#         precipitation.append(prcp_dict)\n",
    "        \n",
    "#     precipitation = list(np.ravel(result))    \n",
    "#     return jsonify(precipitation)\n",
    "\n",
    "\n",
    "    \n",
    "# #### API route 2/5:   \n",
    "# @app.route(\"/api/v1.0/stations\")\n",
    "# def stations():\n",
    "#     session = Session(engine)\n",
    "#     sel = [Station.station, Station.name, Station.latitude, Station.longitude, Station.elevation]\n",
    "#     result = session.query(*sel).all()  \n",
    "#     session.close()\n",
    "    \n",
    "#     stations = []\n",
    "#     for station, name, latitude, longitude, elevation in  result:\n",
    "#         station_dict = {}\n",
    "#         station_dict[\"station\"] = station\n",
    "#         station_dict[\"name\"] = name\n",
    "#         station_dict[\"latitude\"] = latitude\n",
    "#         station_dict[\"longitude\"] = longitude\n",
    "#         station_dict[\"elevation\"] = elevation\n",
    "#         stations.append(station_dict)\n",
    "#     stations = list(np.ravel(result))\n",
    "#     return jsonify(stations)\n",
    "\n",
    "\n",
    "# #### API route 3/5:\n",
    "# @app.route(\"/api/v1.0/tobs\")\n",
    "# def temp_obs():\n",
    "#     session = Session(engine)\n",
    "#     latest_obs = session.query(Measurement.date).order_by(Measurement.date.desc()).first()\n",
    "#     latest_date = dt.datetime.strftime(latest_obs, '%Y-%m-%d') - dt.timedelta(days=365)\n",
    "#     sel = [Measurement.date, Measurement.tobs]\n",
    "#     result = session.query(*sel).all()\n",
    "#     session.close()\n",
    "     \n",
    "#     temp_obs = []\n",
    "#     for date, tobs in result:\n",
    "#         temp_obs_dict = {}\n",
    "#         temp_obs_dict[\"date\"] = date\n",
    "#         temp_obs_dict[\"Measurement.tobs\"] = tobs\n",
    "#         temp_obs.append(temp_obs_dict)\n",
    "#     temp_obs = list(np.ravel(result))\n",
    "#     return jsonify(temp_obs)\n",
    "        \n",
    "# #### API route 4/5:    \n",
    "# @app.route(\"/api/v1.0/<start>\")\n",
    "# def temps_from_start(start):\n",
    "#     session = Session(engine)\n",
    "#     result = session.query(func.min(Measurement.tobs), func.avg(Measurement.tobs), func.max(Measurement.tobs)).filter(Measurement.date >=       start).all()\n",
    "#     session.close()\n",
    "    \n",
    "#     temps_from_start = []\n",
    "#     for min, avg, max in result:\n",
    "#         temps_from_start_dict = {}\n",
    "#         temps_from_start[\"min\"] = min\n",
    "#         temps_from_start[\"avg\"] = avg\n",
    "#         temps_from_start[\"max\"] = max\n",
    "#         temps_from_start.append(temps_from_start_dict)        \n",
    "#     temps_from_start = list(np.ravel(result))\n",
    "#     return jsonify(temps_from_start)\n",
    "\n",
    "# #### API route 5/5:\n",
    "# @app.route(\"/api/v1.0/<start>/<end>\")\n",
    "# def temps_start_to_end(start, end):\n",
    "#     session = Session(engine)\n",
    "#     result = session.query(func.min(Measurement.tobs), func.avg(Measurement.tobs), func.max(Measurement.tobs)).filter(Measurement.date >=       start).filter(Measurement.date <= end).all()     \n",
    "#     session.close()\n",
    "    \n",
    "#     temps_start_to_end = []\n",
    "#     for min, avg, max in result:\n",
    "#         temps_start_to_end_dict = {}\n",
    "#         temps_start_to_end[\"min\"] = min\n",
    "#         temps_start_to_end[\"avg\"] = avg\n",
    "#         temps_start_to_end[\"max\"] = max\n",
    "#         temps_start_to_end.append(temps_start_to_end_dict)\n",
    "#     temps_start_to_end = list(np.ravel(result))\n",
    "#     return jsonify(temps_start_to_end)\n",
    "           \n",
    "           \n",
    "# if __name__ == \"__main__\":\n",
    "#     app.run(debug=True)"
   ]
  },
  {
   "cell_type": "markdown",
   "metadata": {},
   "source": [
    "## Optional Challenge Assignment"
   ]
  },
  {
   "cell_type": "code",
   "execution_count": null,
   "metadata": {},
   "outputs": [],
   "source": [
    "# Create a query that will calculate the daily normals \n",
    "# (i.e. the averages for tmin, tmax, and tavg for all historic data matching a specific month and day)\n",
    "\n",
    "def daily_normals(date):\n",
    "    \"\"\"Daily Normals.\n",
    "    \n",
    "    Args:\n",
    "        date (str): A date string in the format '%m-%d'\n",
    "        \n",
    "    Returns:\n",
    "        A list of tuples containing the daily normals, tmin, tavg, and tmax\n",
    "    \n",
    "    \"\"\"\n",
    "    \n",
    "    sel = [func.min(Measurement.tobs), func.avg(Measurement.tobs), func.max(Measurement.tobs)]\n",
    "    return session.query(*sel).filter(func.strftime(\"%m-%d\", Measurement.date) == date).all()\n",
    "    \n",
    "daily_normals(\"01-01\")"
   ]
  },
  {
   "cell_type": "code",
   "execution_count": null,
   "metadata": {},
   "outputs": [],
   "source": [
    "# Calculate the daily normals for your trip; Set the start and end date of the trip\n",
    "start_date = '2017-12-30'\n",
    "end_date = '2018-01-05'\n",
    "# Use the start and end date to create a range of dates\n",
    "# Stip off the year and save a list of %m-%d strings\n",
    "start_date_obj = dt.datetime.strptime(start_date, '%Y-%m-%d')\n",
    "print(f\"Start date is {start_date_obj}.\")\n",
    "print(\"\")\n",
    "end_date_obj = dt.datetime.strptime(end_date,'%Y-%m-%d')\n",
    "print(f\"End date is {end_date_obj}.\")\n",
    "print(\"\")\n",
    "date_range = []\n",
    "# # # # push each tuple of calculations into a list called `normals`\n",
    "normals = []\n",
    "for i in range (0,7):\n",
    "    date = start_date_obj + dt.timedelta(days=i)\n",
    "    date_range.append(date)\n",
    "    \n",
    "print(f\"The date range is {date_range}.\")\n",
    "print(\"\")\n",
    "date_list = [dt.datetime.strftime(start_date_obj + dt.timedelta(days = j), '%m-%d') for j in range (0,7)]   \n",
    "print(f\"Date list: {date_list}.\")\n",
    "print(\"\")\n",
    "#Loop through the list of %m-%d strings and calculate the normals for each date\n",
    "normal_temps = [daily_normals(date) for date in date_list]\n",
    "normal_temps"
   ]
  },
  {
   "cell_type": "code",
   "execution_count": null,
   "metadata": {},
   "outputs": [],
   "source": [
    "dictionary = dict(zip(date_list, normal_temps))\n",
    "print(dictionary)"
   ]
  },
  {
   "cell_type": "markdown",
   "metadata": {},
   "source": [
    "## Daily Normals for My Trip"
   ]
  },
  {
   "cell_type": "code",
   "execution_count": null,
   "metadata": {},
   "outputs": [],
   "source": [
    "trip_df = pd.DataFrame(dictionary)\n",
    "trip_df.set_index(date_list)\n",
    "trip_df = trip_df.T\n",
    "trip_df.columns=['TMIN, TAVE, TMAX']\n",
    "trip_df = trip_df.rename_axis(\"Day\")\n",
    "trip_df"
   ]
  },
  {
   "cell_type": "code",
   "execution_count": null,
   "metadata": {},
   "outputs": [],
   "source": [
    "normal_temps_unpacked = [np.ravel(normal_temps)]\n",
    "normal_temps_unpacked"
   ]
  },
  {
   "cell_type": "code",
   "execution_count": null,
   "metadata": {},
   "outputs": [],
   "source": [
    "# Plot the daily normals as an area plot with `stacked=False`\n",
    "trip_df['TMIN, TAVE, TMAX'] = trip_df['TIN, TAVE, TMAX'].astype(float) \n",
    "trip_df\n",
    "fig, ax = plt.subplots()\n",
    "trip_df.plot.area(stacked=False)\n",
    "#plt.show()"
   ]
  },
  {
   "cell_type": "code",
   "execution_count": null,
   "metadata": {},
   "outputs": [],
   "source": []
  }
 ],
 "metadata": {
  "kernel_info": {
   "name": "python3"
  },
  "kernelspec": {
   "display_name": "Python 3",
   "language": "python",
   "name": "python3"
  },
  "language_info": {
   "codemirror_mode": {
    "name": "ipython",
    "version": 3
   },
   "file_extension": ".py",
   "mimetype": "text/x-python",
   "name": "python",
   "nbconvert_exporter": "python",
   "pygments_lexer": "ipython3",
   "version": "3.6.9"
  },
  "nteract": {
   "version": "0.12.3"
  },
  "varInspector": {
   "cols": {
    "lenName": 16,
    "lenType": 16,
    "lenVar": 40
   },
   "kernels_config": {
    "python": {
     "delete_cmd_postfix": "",
     "delete_cmd_prefix": "del ",
     "library": "var_list.py",
     "varRefreshCmd": "print(var_dic_list())"
    },
    "r": {
     "delete_cmd_postfix": ") ",
     "delete_cmd_prefix": "rm(",
     "library": "var_list.r",
     "varRefreshCmd": "cat(var_dic_list()) "
    }
   },
   "types_to_exclude": [
    "module",
    "function",
    "builtin_function_or_method",
    "instance",
    "_Feature"
   ],
   "window_display": false
  }
 },
 "nbformat": 4,
 "nbformat_minor": 2
}
